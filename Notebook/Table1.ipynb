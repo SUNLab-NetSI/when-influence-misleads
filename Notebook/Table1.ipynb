{
 "cells": [
  {
   "cell_type": "code",
   "execution_count": 2,
   "metadata": {},
   "outputs": [],
   "source": [
    "from collections import Counter\n",
    "import numpy as np\n",
    "import pandas as pd\n",
    "import datetime as dt\n",
    "import networkx as nx\n",
    "import matplotlib.pyplot as plt\n",
    "import os\n",
    "from datetime import datetime, timezone\n",
    "import math\n",
    "\n"
   ]
  },
  {
   "cell_type": "code",
   "execution_count": 3,
   "metadata": {},
   "outputs": [
    {
     "name": "stderr",
     "output_type": "stream",
     "text": [
      "R[write to console]: Version:  1.39.3\n",
      "Date:     2023-11-09\n",
      "Author:   Philip Leifeld (University of Essex)\n",
      "\n",
      "Consider submitting praise using the praise or praise_interactive functions.\n",
      "Please cite the JSS article in your publications -- see citation(\"texreg\").\n",
      "\n",
      "R[write to console]: In addition: \n",
      "R[write to console]: Warning message:\n",
      "\n",
      "R[write to console]: Absence of convergence: Maximum number of iterations reached (25). Final deviance: 123,797.8. \n",
      "\n",
      "R[write to console]: The table was written to the file '../data/table.tex'.\n",
      "\n",
      "\n"
     ]
    },
    {
     "name": "stdout",
     "output_type": "stream",
     "text": [
      "GLM estimation, family = binomial, Dep. Var.: Chosen\n",
      "Observations: 160,890 \n",
      "Fixed-effects: factor(PersonAID): 16,993,  factor(T): 115\n",
      "Standard-errors: Clustered (PersonAID & T) \n",
      "                    Estimate Std. Error z value  Pr(>|z|)    \n",
      "Performance_zscore  0.372817   0.029193 12.7708 < 2.2e-16 ***\n",
      "Popularity_zscore  14.886841   0.723389 20.5793 < 2.2e-16 ***\n",
      "---\n",
      "Signif. codes:  0 '***' 0.001 '**' 0.01 '*' 0.05 '.' 0.1 ' ' 1\n",
      "Log-Likelihood: -61,898.9   Adj. Pseudo R2: 0.291548\n",
      "           BIC: 328,908.6     Squared Cor.: 0.564859\n",
      "# Evaluations: lhs: 25 -- no convergence: Maximum number of iterations reached \n"
     ]
    }
   ],
   "source": [
    "import rpy2.robjects as ro\n",
    "from rpy2.robjects import pandas2ri\n",
    "\n",
    "\n",
    "pandas2ri.activate()\n",
    "\n",
    "\n",
    "\n",
    "ro.r('library(fixest)')\n",
    "ro.r('library(texreg)')\n",
    "\n",
    "\n",
    "ro.r('''\n",
    "dat <- read.csv(\"../data/log_reg.csv\", stringsAsFactors = FALSE)\n",
    "dat$Chosen <- ifelse(dat$Chosen == 'True', 1, 0)\n",
    "''')\n",
    "\n",
    "\n",
    "ro.r('''\n",
    "fit <- fixest::feglm(\n",
    "    Chosen ~ Performance_zscore + Popularity_zscore | factor(PersonAID) + factor(T),\n",
    "    data = dat,\n",
    "    family = binomial(\"logit\"),\n",
    "    cluster = c(\"PersonAID\", \"T\")\n",
    ")\n",
    "''')\n",
    "\n",
    "\n",
    "summary_output = ro.r('capture.output(summary(fit))')\n",
    "print(\"\\n\".join(summary_output))\n",
    "\n",
    "\n",
    "ro.r('texreg(fit, file=\"../data/table.tex\")')"
   ]
  },
  {
   "cell_type": "code",
   "execution_count": null,
   "metadata": {},
   "outputs": [],
   "source": []
  }
 ],
 "metadata": {
  "kernelspec": {
   "display_name": "base",
   "language": "python",
   "name": "python3"
  },
  "language_info": {
   "codemirror_mode": {
    "name": "ipython",
    "version": 3
   },
   "file_extension": ".py",
   "mimetype": "text/x-python",
   "name": "python",
   "nbconvert_exporter": "python",
   "pygments_lexer": "ipython3",
   "version": "3.11.4"
  }
 },
 "nbformat": 4,
 "nbformat_minor": 2
}
